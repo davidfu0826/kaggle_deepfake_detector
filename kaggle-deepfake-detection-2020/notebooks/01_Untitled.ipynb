{
 "cells": [
  {
   "cell_type": "code",
   "execution_count": 1,
   "metadata": {},
   "outputs": [
    {
     "name": "stdout",
     "output_type": "stream",
     "text": [
      "2020-03-01 16:29:57,626 - root - ERROR - Kedro's ipython session startup script failed:\n",
      "An exception occurred when parsing config for DataSet `small_deepfake_data`:\n",
      "Class `kaggle_deepfake_detection_2020.io.datasets.video_dataset.VideoFrameSamplerDataSet` not found.\n",
      "Traceback (most recent call last):\n",
      "  File \"c:\\users\\succe\\.conda\\envs\\pytorch_env\\lib\\site-packages\\kedro\\io\\core.py\", line 416, in parse_dataset_definition\n",
      "    class_obj = next(obj for obj in trials if obj is not None)\n",
      "StopIteration\n",
      "\n",
      "During handling of the above exception, another exception occurred:\n",
      "\n",
      "Traceback (most recent call last):\n",
      "  File \"c:\\users\\succe\\.conda\\envs\\pytorch_env\\lib\\site-packages\\kedro\\io\\core.py\", line 149, in from_config\n",
      "    config, load_version, save_version\n",
      "  File \"c:\\users\\succe\\.conda\\envs\\pytorch_env\\lib\\site-packages\\kedro\\io\\core.py\", line 418, in parse_dataset_definition\n",
      "    raise DataSetError(\"Class `{}` not found.\".format(class_obj))\n",
      "kedro.io.core.DataSetError: Class `kaggle_deepfake_detection_2020.io.datasets.video_dataset.VideoFrameSamplerDataSet` not found.\n",
      "\n",
      "During handling of the above exception, another exception occurred:\n",
      "\n",
      "Traceback (most recent call last):\n",
      "  File \"C:\\Users\\Succe\\Documents\\Github\\kaggle_deepfake_detector\\kaggle-deepfake-detection-2020\\.ipython\\profile_default\\startup\\00-kedro-init.py\", line 36, in reload_kedro\n",
      "    catalog = context.catalog\n",
      "  File \"c:\\users\\succe\\.conda\\envs\\pytorch_env\\lib\\site-packages\\kedro\\context\\context.py\", line 208, in catalog\n",
      "    return self._get_catalog()\n",
      "  File \"c:\\users\\succe\\.conda\\envs\\pytorch_env\\lib\\site-packages\\kedro\\context\\context.py\", line 245, in _get_catalog\n",
      "    conf_catalog, conf_creds, save_version, journal, load_versions\n",
      "  File \"c:\\users\\succe\\.conda\\envs\\pytorch_env\\lib\\site-packages\\kedro\\context\\context.py\", line 269, in _create_catalog\n",
      "    load_versions=load_versions,\n",
      "  File \"c:\\users\\succe\\.conda\\envs\\pytorch_env\\lib\\site-packages\\kedro\\io\\data_catalog.py\", line 300, in from_config\n",
      "    ds_name, ds_config, load_versions.get(ds_name), save_version\n",
      "  File \"c:\\users\\succe\\.conda\\envs\\pytorch_env\\lib\\site-packages\\kedro\\io\\core.py\", line 154, in from_config\n",
      "    \"for DataSet `{}`:\\n{}\".format(name, str(ex))\n",
      "kedro.io.core.DataSetError: An exception occurred when parsing config for DataSet `small_deepfake_data`:\n",
      "Class `kaggle_deepfake_detection_2020.io.datasets.video_dataset.VideoFrameSamplerDataSet` not found.\n"
     ]
    },
    {
     "ename": "DataSetError",
     "evalue": "An exception occurred when parsing config for DataSet `small_deepfake_data`:\nClass `kaggle_deepfake_detection_2020.io.datasets.video_dataset.VideoFrameSamplerDataSet` not found.",
     "output_type": "error",
     "traceback": [
      "\u001b[1;31m---------------------------------------------------------------------------\u001b[0m",
      "\u001b[1;31mStopIteration\u001b[0m                             Traceback (most recent call last)",
      "\u001b[1;32mc:\\users\\succe\\.conda\\envs\\pytorch_env\\lib\\site-packages\\kedro\\io\\core.py\u001b[0m in \u001b[0;36mparse_dataset_definition\u001b[1;34m(config, load_version, save_version)\u001b[0m\n\u001b[0;32m    415\u001b[0m         \u001b[1;32mtry\u001b[0m\u001b[1;33m:\u001b[0m\u001b[1;33m\u001b[0m\u001b[1;33m\u001b[0m\u001b[0m\n\u001b[1;32m--> 416\u001b[1;33m             \u001b[0mclass_obj\u001b[0m \u001b[1;33m=\u001b[0m \u001b[0mnext\u001b[0m\u001b[1;33m(\u001b[0m\u001b[0mobj\u001b[0m \u001b[1;32mfor\u001b[0m \u001b[0mobj\u001b[0m \u001b[1;32min\u001b[0m \u001b[0mtrials\u001b[0m \u001b[1;32mif\u001b[0m \u001b[0mobj\u001b[0m \u001b[1;32mis\u001b[0m \u001b[1;32mnot\u001b[0m \u001b[1;32mNone\u001b[0m\u001b[1;33m)\u001b[0m\u001b[1;33m\u001b[0m\u001b[1;33m\u001b[0m\u001b[0m\n\u001b[0m\u001b[0;32m    417\u001b[0m         \u001b[1;32mexcept\u001b[0m \u001b[0mStopIteration\u001b[0m\u001b[1;33m:\u001b[0m\u001b[1;33m\u001b[0m\u001b[1;33m\u001b[0m\u001b[0m\n",
      "\u001b[1;31mStopIteration\u001b[0m: ",
      "\nDuring handling of the above exception, another exception occurred:\n",
      "\u001b[1;31mDataSetError\u001b[0m                              Traceback (most recent call last)",
      "\u001b[1;32mc:\\users\\succe\\.conda\\envs\\pytorch_env\\lib\\site-packages\\kedro\\io\\core.py\u001b[0m in \u001b[0;36mfrom_config\u001b[1;34m(cls, name, config, load_version, save_version)\u001b[0m\n\u001b[0;32m    148\u001b[0m             class_obj, config = parse_dataset_definition(\n\u001b[1;32m--> 149\u001b[1;33m                 \u001b[0mconfig\u001b[0m\u001b[1;33m,\u001b[0m \u001b[0mload_version\u001b[0m\u001b[1;33m,\u001b[0m \u001b[0msave_version\u001b[0m\u001b[1;33m\u001b[0m\u001b[1;33m\u001b[0m\u001b[0m\n\u001b[0m\u001b[0;32m    150\u001b[0m             )\n",
      "\u001b[1;32mc:\\users\\succe\\.conda\\envs\\pytorch_env\\lib\\site-packages\\kedro\\io\\core.py\u001b[0m in \u001b[0;36mparse_dataset_definition\u001b[1;34m(config, load_version, save_version)\u001b[0m\n\u001b[0;32m    417\u001b[0m         \u001b[1;32mexcept\u001b[0m \u001b[0mStopIteration\u001b[0m\u001b[1;33m:\u001b[0m\u001b[1;33m\u001b[0m\u001b[1;33m\u001b[0m\u001b[0m\n\u001b[1;32m--> 418\u001b[1;33m             \u001b[1;32mraise\u001b[0m \u001b[0mDataSetError\u001b[0m\u001b[1;33m(\u001b[0m\u001b[1;34m\"Class `{}` not found.\"\u001b[0m\u001b[1;33m.\u001b[0m\u001b[0mformat\u001b[0m\u001b[1;33m(\u001b[0m\u001b[0mclass_obj\u001b[0m\u001b[1;33m)\u001b[0m\u001b[1;33m)\u001b[0m\u001b[1;33m\u001b[0m\u001b[1;33m\u001b[0m\u001b[0m\n\u001b[0m\u001b[0;32m    419\u001b[0m \u001b[1;33m\u001b[0m\u001b[0m\n",
      "\u001b[1;31mDataSetError\u001b[0m: Class `kaggle_deepfake_detection_2020.io.datasets.video_dataset.VideoFrameSamplerDataSet` not found.",
      "\nDuring handling of the above exception, another exception occurred:\n",
      "\u001b[1;31mDataSetError\u001b[0m                              Traceback (most recent call last)",
      "\u001b[1;32m<ipython-input-1-abfcd54c960b>\u001b[0m in \u001b[0;36m<module>\u001b[1;34m\u001b[0m\n\u001b[1;32m----> 1\u001b[1;33m \u001b[0mget_ipython\u001b[0m\u001b[1;33m(\u001b[0m\u001b[1;33m)\u001b[0m\u001b[1;33m.\u001b[0m\u001b[0mrun_line_magic\u001b[0m\u001b[1;33m(\u001b[0m\u001b[1;34m'reload_kedro'\u001b[0m\u001b[1;33m,\u001b[0m \u001b[1;34m''\u001b[0m\u001b[1;33m)\u001b[0m\u001b[1;33m\u001b[0m\u001b[1;33m\u001b[0m\u001b[0m\n\u001b[0m",
      "\u001b[1;32mc:\\users\\succe\\.conda\\envs\\pytorch_env\\lib\\site-packages\\IPython\\core\\interactiveshell.py\u001b[0m in \u001b[0;36mrun_line_magic\u001b[1;34m(self, magic_name, line, _stack_depth)\u001b[0m\n\u001b[0;32m   2305\u001b[0m                 \u001b[0mkwargs\u001b[0m\u001b[1;33m[\u001b[0m\u001b[1;34m'local_ns'\u001b[0m\u001b[1;33m]\u001b[0m \u001b[1;33m=\u001b[0m \u001b[0msys\u001b[0m\u001b[1;33m.\u001b[0m\u001b[0m_getframe\u001b[0m\u001b[1;33m(\u001b[0m\u001b[0mstack_depth\u001b[0m\u001b[1;33m)\u001b[0m\u001b[1;33m.\u001b[0m\u001b[0mf_locals\u001b[0m\u001b[1;33m\u001b[0m\u001b[1;33m\u001b[0m\u001b[0m\n\u001b[0;32m   2306\u001b[0m             \u001b[1;32mwith\u001b[0m \u001b[0mself\u001b[0m\u001b[1;33m.\u001b[0m\u001b[0mbuiltin_trap\u001b[0m\u001b[1;33m:\u001b[0m\u001b[1;33m\u001b[0m\u001b[1;33m\u001b[0m\u001b[0m\n\u001b[1;32m-> 2307\u001b[1;33m                 \u001b[0mresult\u001b[0m \u001b[1;33m=\u001b[0m \u001b[0mfn\u001b[0m\u001b[1;33m(\u001b[0m\u001b[1;33m*\u001b[0m\u001b[0margs\u001b[0m\u001b[1;33m,\u001b[0m \u001b[1;33m**\u001b[0m\u001b[0mkwargs\u001b[0m\u001b[1;33m)\u001b[0m\u001b[1;33m\u001b[0m\u001b[1;33m\u001b[0m\u001b[0m\n\u001b[0m\u001b[0;32m   2308\u001b[0m             \u001b[1;32mreturn\u001b[0m \u001b[0mresult\u001b[0m\u001b[1;33m\u001b[0m\u001b[1;33m\u001b[0m\u001b[0m\n\u001b[0;32m   2309\u001b[0m \u001b[1;33m\u001b[0m\u001b[0m\n",
      "\u001b[1;32m~\\Documents\\Github\\kaggle_deepfake_detector\\kaggle-deepfake-detection-2020\\.ipython\\profile_default\\startup\\00-kedro-init.py\u001b[0m in \u001b[0;36mreload_kedro\u001b[1;34m(path, line)\u001b[0m\n\u001b[0;32m     53\u001b[0m             \u001b[1;34m\"Kedro's ipython session startup script failed:\\n%s\"\u001b[0m\u001b[1;33m,\u001b[0m \u001b[0mstr\u001b[0m\u001b[1;33m(\u001b[0m\u001b[0merr\u001b[0m\u001b[1;33m)\u001b[0m\u001b[1;33m\u001b[0m\u001b[1;33m\u001b[0m\u001b[0m\n\u001b[0;32m     54\u001b[0m         )\n\u001b[1;32m---> 55\u001b[1;33m         \u001b[1;32mraise\u001b[0m \u001b[0merr\u001b[0m\u001b[1;33m\u001b[0m\u001b[1;33m\u001b[0m\u001b[0m\n\u001b[0m\u001b[0;32m     56\u001b[0m \u001b[1;33m\u001b[0m\u001b[0m\n\u001b[0;32m     57\u001b[0m \u001b[1;33m\u001b[0m\u001b[0m\n",
      "\u001b[1;32m~\\Documents\\Github\\kaggle_deepfake_detector\\kaggle-deepfake-detection-2020\\.ipython\\profile_default\\startup\\00-kedro-init.py\u001b[0m in \u001b[0;36mreload_kedro\u001b[1;34m(path, line)\u001b[0m\n\u001b[0;32m     34\u001b[0m \u001b[1;33m\u001b[0m\u001b[0m\n\u001b[0;32m     35\u001b[0m         \u001b[0mcontext\u001b[0m \u001b[1;33m=\u001b[0m \u001b[0mload_context\u001b[0m\u001b[1;33m(\u001b[0m\u001b[0mpath\u001b[0m\u001b[1;33m,\u001b[0m \u001b[0menv\u001b[0m\u001b[1;33m=\u001b[0m\u001b[0mos\u001b[0m\u001b[1;33m.\u001b[0m\u001b[0mgetenv\u001b[0m\u001b[1;33m(\u001b[0m\u001b[0mKEDRO_ENV_VAR\u001b[0m\u001b[1;33m)\u001b[0m\u001b[1;33m)\u001b[0m\u001b[1;33m\u001b[0m\u001b[1;33m\u001b[0m\u001b[0m\n\u001b[1;32m---> 36\u001b[1;33m         \u001b[0mcatalog\u001b[0m \u001b[1;33m=\u001b[0m \u001b[0mcontext\u001b[0m\u001b[1;33m.\u001b[0m\u001b[0mcatalog\u001b[0m\u001b[1;33m\u001b[0m\u001b[1;33m\u001b[0m\u001b[0m\n\u001b[0m\u001b[0;32m     37\u001b[0m \u001b[1;33m\u001b[0m\u001b[0m\n\u001b[0;32m     38\u001b[0m         \u001b[1;31m# remove cached user modules\u001b[0m\u001b[1;33m\u001b[0m\u001b[1;33m\u001b[0m\u001b[1;33m\u001b[0m\u001b[0m\n",
      "\u001b[1;32mc:\\users\\succe\\.conda\\envs\\pytorch_env\\lib\\site-packages\\kedro\\context\\context.py\u001b[0m in \u001b[0;36mcatalog\u001b[1;34m(self)\u001b[0m\n\u001b[0;32m    206\u001b[0m \u001b[1;33m\u001b[0m\u001b[0m\n\u001b[0;32m    207\u001b[0m         \"\"\"\n\u001b[1;32m--> 208\u001b[1;33m         \u001b[1;32mreturn\u001b[0m \u001b[0mself\u001b[0m\u001b[1;33m.\u001b[0m\u001b[0m_get_catalog\u001b[0m\u001b[1;33m(\u001b[0m\u001b[1;33m)\u001b[0m\u001b[1;33m\u001b[0m\u001b[1;33m\u001b[0m\u001b[0m\n\u001b[0m\u001b[0;32m    209\u001b[0m \u001b[1;33m\u001b[0m\u001b[0m\n\u001b[0;32m    210\u001b[0m     \u001b[1;33m@\u001b[0m\u001b[0mproperty\u001b[0m\u001b[1;33m\u001b[0m\u001b[1;33m\u001b[0m\u001b[0m\n",
      "\u001b[1;32mc:\\users\\succe\\.conda\\envs\\pytorch_env\\lib\\site-packages\\kedro\\context\\context.py\u001b[0m in \u001b[0;36m_get_catalog\u001b[1;34m(self, save_version, journal, load_versions)\u001b[0m\n\u001b[0;32m    243\u001b[0m         \u001b[0mconf_creds\u001b[0m \u001b[1;33m=\u001b[0m \u001b[0mself\u001b[0m\u001b[1;33m.\u001b[0m\u001b[0m_get_config_credentials\u001b[0m\u001b[1;33m(\u001b[0m\u001b[1;33m)\u001b[0m\u001b[1;33m\u001b[0m\u001b[1;33m\u001b[0m\u001b[0m\n\u001b[0;32m    244\u001b[0m         catalog = self._create_catalog(\n\u001b[1;32m--> 245\u001b[1;33m             \u001b[0mconf_catalog\u001b[0m\u001b[1;33m,\u001b[0m \u001b[0mconf_creds\u001b[0m\u001b[1;33m,\u001b[0m \u001b[0msave_version\u001b[0m\u001b[1;33m,\u001b[0m \u001b[0mjournal\u001b[0m\u001b[1;33m,\u001b[0m \u001b[0mload_versions\u001b[0m\u001b[1;33m\u001b[0m\u001b[1;33m\u001b[0m\u001b[0m\n\u001b[0m\u001b[0;32m    246\u001b[0m         )\n\u001b[0;32m    247\u001b[0m         \u001b[0mcatalog\u001b[0m\u001b[1;33m.\u001b[0m\u001b[0madd_feed_dict\u001b[0m\u001b[1;33m(\u001b[0m\u001b[0mself\u001b[0m\u001b[1;33m.\u001b[0m\u001b[0m_get_feed_dict\u001b[0m\u001b[1;33m(\u001b[0m\u001b[1;33m)\u001b[0m\u001b[1;33m)\u001b[0m\u001b[1;33m\u001b[0m\u001b[1;33m\u001b[0m\u001b[0m\n",
      "\u001b[1;32mc:\\users\\succe\\.conda\\envs\\pytorch_env\\lib\\site-packages\\kedro\\context\\context.py\u001b[0m in \u001b[0;36m_create_catalog\u001b[1;34m(self, conf_catalog, conf_creds, save_version, journal, load_versions)\u001b[0m\n\u001b[0;32m    267\u001b[0m             \u001b[0msave_version\u001b[0m\u001b[1;33m=\u001b[0m\u001b[0msave_version\u001b[0m\u001b[1;33m,\u001b[0m\u001b[1;33m\u001b[0m\u001b[1;33m\u001b[0m\u001b[0m\n\u001b[0;32m    268\u001b[0m             \u001b[0mjournal\u001b[0m\u001b[1;33m=\u001b[0m\u001b[0mjournal\u001b[0m\u001b[1;33m,\u001b[0m\u001b[1;33m\u001b[0m\u001b[1;33m\u001b[0m\u001b[0m\n\u001b[1;32m--> 269\u001b[1;33m             \u001b[0mload_versions\u001b[0m\u001b[1;33m=\u001b[0m\u001b[0mload_versions\u001b[0m\u001b[1;33m,\u001b[0m\u001b[1;33m\u001b[0m\u001b[1;33m\u001b[0m\u001b[0m\n\u001b[0m\u001b[0;32m    270\u001b[0m         )\n\u001b[0;32m    271\u001b[0m \u001b[1;33m\u001b[0m\u001b[0m\n",
      "\u001b[1;32mc:\\users\\succe\\.conda\\envs\\pytorch_env\\lib\\site-packages\\kedro\\io\\data_catalog.py\u001b[0m in \u001b[0;36mfrom_config\u001b[1;34m(cls, catalog, credentials, load_versions, save_version, journal)\u001b[0m\n\u001b[0;32m    298\u001b[0m             \u001b[0mds_config\u001b[0m \u001b[1;33m=\u001b[0m \u001b[0m_resolve_credentials\u001b[0m\u001b[1;33m(\u001b[0m\u001b[0mds_config\u001b[0m\u001b[1;33m,\u001b[0m \u001b[0mcredentials\u001b[0m\u001b[1;33m)\u001b[0m\u001b[1;33m\u001b[0m\u001b[1;33m\u001b[0m\u001b[0m\n\u001b[0;32m    299\u001b[0m             data_sets[ds_name] = AbstractDataSet.from_config(\n\u001b[1;32m--> 300\u001b[1;33m                 \u001b[0mds_name\u001b[0m\u001b[1;33m,\u001b[0m \u001b[0mds_config\u001b[0m\u001b[1;33m,\u001b[0m \u001b[0mload_versions\u001b[0m\u001b[1;33m.\u001b[0m\u001b[0mget\u001b[0m\u001b[1;33m(\u001b[0m\u001b[0mds_name\u001b[0m\u001b[1;33m)\u001b[0m\u001b[1;33m,\u001b[0m \u001b[0msave_version\u001b[0m\u001b[1;33m\u001b[0m\u001b[1;33m\u001b[0m\u001b[0m\n\u001b[0m\u001b[0;32m    301\u001b[0m             )\n\u001b[0;32m    302\u001b[0m         \u001b[1;32mreturn\u001b[0m \u001b[0mcls\u001b[0m\u001b[1;33m(\u001b[0m\u001b[0mdata_sets\u001b[0m\u001b[1;33m=\u001b[0m\u001b[0mdata_sets\u001b[0m\u001b[1;33m,\u001b[0m \u001b[0mjournal\u001b[0m\u001b[1;33m=\u001b[0m\u001b[0mjournal\u001b[0m\u001b[1;33m)\u001b[0m\u001b[1;33m\u001b[0m\u001b[1;33m\u001b[0m\u001b[0m\n",
      "\u001b[1;32mc:\\users\\succe\\.conda\\envs\\pytorch_env\\lib\\site-packages\\kedro\\io\\core.py\u001b[0m in \u001b[0;36mfrom_config\u001b[1;34m(cls, name, config, load_version, save_version)\u001b[0m\n\u001b[0;32m    152\u001b[0m             raise DataSetError(\n\u001b[0;32m    153\u001b[0m                 \u001b[1;34m\"An exception occurred when parsing config \"\u001b[0m\u001b[1;33m\u001b[0m\u001b[1;33m\u001b[0m\u001b[0m\n\u001b[1;32m--> 154\u001b[1;33m                 \u001b[1;34m\"for DataSet `{}`:\\n{}\"\u001b[0m\u001b[1;33m.\u001b[0m\u001b[0mformat\u001b[0m\u001b[1;33m(\u001b[0m\u001b[0mname\u001b[0m\u001b[1;33m,\u001b[0m \u001b[0mstr\u001b[0m\u001b[1;33m(\u001b[0m\u001b[0mex\u001b[0m\u001b[1;33m)\u001b[0m\u001b[1;33m)\u001b[0m\u001b[1;33m\u001b[0m\u001b[1;33m\u001b[0m\u001b[0m\n\u001b[0m\u001b[0;32m    155\u001b[0m             )\n\u001b[0;32m    156\u001b[0m \u001b[1;33m\u001b[0m\u001b[0m\n",
      "\u001b[1;31mDataSetError\u001b[0m: An exception occurred when parsing config for DataSet `small_deepfake_data`:\nClass `kaggle_deepfake_detection_2020.io.datasets.video_dataset.VideoFrameSamplerDataSet` not found."
     ]
    }
   ],
   "source": [
    "%reload_kedro"
   ]
  },
  {
   "cell_type": "code",
   "execution_count": 14,
   "metadata": {},
   "outputs": [
    {
     "ename": "DataSetError",
     "evalue": "An exception occurred when parsing config for DataSet `small_deepfake_data`:\nClass `kaggle_deepfake_detection_2020.io.datasets.video_dataset.VideoFrameSamplerDataSet` not found.",
     "output_type": "error",
     "traceback": [
      "\u001b[1;31m---------------------------------------------------------------------------\u001b[0m",
      "\u001b[1;31mStopIteration\u001b[0m                             Traceback (most recent call last)",
      "\u001b[1;32mc:\\users\\succe\\.conda\\envs\\pytorch_env\\lib\\site-packages\\kedro\\io\\core.py\u001b[0m in \u001b[0;36mparse_dataset_definition\u001b[1;34m(config, load_version, save_version)\u001b[0m\n\u001b[0;32m    415\u001b[0m         \u001b[1;32mtry\u001b[0m\u001b[1;33m:\u001b[0m\u001b[1;33m\u001b[0m\u001b[1;33m\u001b[0m\u001b[0m\n\u001b[1;32m--> 416\u001b[1;33m             \u001b[0mclass_obj\u001b[0m \u001b[1;33m=\u001b[0m \u001b[0mnext\u001b[0m\u001b[1;33m(\u001b[0m\u001b[0mobj\u001b[0m \u001b[1;32mfor\u001b[0m \u001b[0mobj\u001b[0m \u001b[1;32min\u001b[0m \u001b[0mtrials\u001b[0m \u001b[1;32mif\u001b[0m \u001b[0mobj\u001b[0m \u001b[1;32mis\u001b[0m \u001b[1;32mnot\u001b[0m \u001b[1;32mNone\u001b[0m\u001b[1;33m)\u001b[0m\u001b[1;33m\u001b[0m\u001b[1;33m\u001b[0m\u001b[0m\n\u001b[0m\u001b[0;32m    417\u001b[0m         \u001b[1;32mexcept\u001b[0m \u001b[0mStopIteration\u001b[0m\u001b[1;33m:\u001b[0m\u001b[1;33m\u001b[0m\u001b[1;33m\u001b[0m\u001b[0m\n",
      "\u001b[1;31mStopIteration\u001b[0m: ",
      "\nDuring handling of the above exception, another exception occurred:\n",
      "\u001b[1;31mDataSetError\u001b[0m                              Traceback (most recent call last)",
      "\u001b[1;32mc:\\users\\succe\\.conda\\envs\\pytorch_env\\lib\\site-packages\\kedro\\io\\core.py\u001b[0m in \u001b[0;36mfrom_config\u001b[1;34m(cls, name, config, load_version, save_version)\u001b[0m\n\u001b[0;32m    148\u001b[0m             class_obj, config = parse_dataset_definition(\n\u001b[1;32m--> 149\u001b[1;33m                 \u001b[0mconfig\u001b[0m\u001b[1;33m,\u001b[0m \u001b[0mload_version\u001b[0m\u001b[1;33m,\u001b[0m \u001b[0msave_version\u001b[0m\u001b[1;33m\u001b[0m\u001b[1;33m\u001b[0m\u001b[0m\n\u001b[0m\u001b[0;32m    150\u001b[0m             )\n",
      "\u001b[1;32mc:\\users\\succe\\.conda\\envs\\pytorch_env\\lib\\site-packages\\kedro\\io\\core.py\u001b[0m in \u001b[0;36mparse_dataset_definition\u001b[1;34m(config, load_version, save_version)\u001b[0m\n\u001b[0;32m    417\u001b[0m         \u001b[1;32mexcept\u001b[0m \u001b[0mStopIteration\u001b[0m\u001b[1;33m:\u001b[0m\u001b[1;33m\u001b[0m\u001b[1;33m\u001b[0m\u001b[0m\n\u001b[1;32m--> 418\u001b[1;33m             \u001b[1;32mraise\u001b[0m \u001b[0mDataSetError\u001b[0m\u001b[1;33m(\u001b[0m\u001b[1;34m\"Class `{}` not found.\"\u001b[0m\u001b[1;33m.\u001b[0m\u001b[0mformat\u001b[0m\u001b[1;33m(\u001b[0m\u001b[0mclass_obj\u001b[0m\u001b[1;33m)\u001b[0m\u001b[1;33m)\u001b[0m\u001b[1;33m\u001b[0m\u001b[1;33m\u001b[0m\u001b[0m\n\u001b[0m\u001b[0;32m    419\u001b[0m \u001b[1;33m\u001b[0m\u001b[0m\n",
      "\u001b[1;31mDataSetError\u001b[0m: Class `kaggle_deepfake_detection_2020.io.datasets.video_dataset.VideoFrameSamplerDataSet` not found.",
      "\nDuring handling of the above exception, another exception occurred:\n",
      "\u001b[1;31mDataSetError\u001b[0m                              Traceback (most recent call last)",
      "\u001b[1;32m<ipython-input-14-d4cb07c69f0c>\u001b[0m in \u001b[0;36m<module>\u001b[1;34m\u001b[0m\n\u001b[1;32m----> 1\u001b[1;33m \u001b[0mcontext\u001b[0m\u001b[1;33m.\u001b[0m\u001b[0mio\u001b[0m\u001b[1;33m\u001b[0m\u001b[1;33m\u001b[0m\u001b[0m\n\u001b[0m",
      "\u001b[1;32mc:\\users\\succe\\.conda\\envs\\pytorch_env\\lib\\site-packages\\kedro\\context\\context.py\u001b[0m in \u001b[0;36mio\u001b[1;34m(self)\u001b[0m\n\u001b[0;32m    280\u001b[0m         \"\"\"\n\u001b[0;32m    281\u001b[0m         \u001b[1;31m# pylint: disable=invalid-name\u001b[0m\u001b[1;33m\u001b[0m\u001b[1;33m\u001b[0m\u001b[1;33m\u001b[0m\u001b[0m\n\u001b[1;32m--> 282\u001b[1;33m         \u001b[1;32mreturn\u001b[0m \u001b[0mself\u001b[0m\u001b[1;33m.\u001b[0m\u001b[0mcatalog\u001b[0m\u001b[1;33m\u001b[0m\u001b[1;33m\u001b[0m\u001b[0m\n\u001b[0m\u001b[0;32m    283\u001b[0m \u001b[1;33m\u001b[0m\u001b[0m\n\u001b[0;32m    284\u001b[0m     def _create_config_loader(  # pylint: disable=no-self-use\n",
      "\u001b[1;32mc:\\users\\succe\\.conda\\envs\\pytorch_env\\lib\\site-packages\\kedro\\context\\context.py\u001b[0m in \u001b[0;36mcatalog\u001b[1;34m(self)\u001b[0m\n\u001b[0;32m    206\u001b[0m \u001b[1;33m\u001b[0m\u001b[0m\n\u001b[0;32m    207\u001b[0m         \"\"\"\n\u001b[1;32m--> 208\u001b[1;33m         \u001b[1;32mreturn\u001b[0m \u001b[0mself\u001b[0m\u001b[1;33m.\u001b[0m\u001b[0m_get_catalog\u001b[0m\u001b[1;33m(\u001b[0m\u001b[1;33m)\u001b[0m\u001b[1;33m\u001b[0m\u001b[1;33m\u001b[0m\u001b[0m\n\u001b[0m\u001b[0;32m    209\u001b[0m \u001b[1;33m\u001b[0m\u001b[0m\n\u001b[0;32m    210\u001b[0m     \u001b[1;33m@\u001b[0m\u001b[0mproperty\u001b[0m\u001b[1;33m\u001b[0m\u001b[1;33m\u001b[0m\u001b[0m\n",
      "\u001b[1;32mc:\\users\\succe\\.conda\\envs\\pytorch_env\\lib\\site-packages\\kedro\\context\\context.py\u001b[0m in \u001b[0;36m_get_catalog\u001b[1;34m(self, save_version, journal, load_versions)\u001b[0m\n\u001b[0;32m    243\u001b[0m         \u001b[0mconf_creds\u001b[0m \u001b[1;33m=\u001b[0m \u001b[0mself\u001b[0m\u001b[1;33m.\u001b[0m\u001b[0m_get_config_credentials\u001b[0m\u001b[1;33m(\u001b[0m\u001b[1;33m)\u001b[0m\u001b[1;33m\u001b[0m\u001b[1;33m\u001b[0m\u001b[0m\n\u001b[0;32m    244\u001b[0m         catalog = self._create_catalog(\n\u001b[1;32m--> 245\u001b[1;33m             \u001b[0mconf_catalog\u001b[0m\u001b[1;33m,\u001b[0m \u001b[0mconf_creds\u001b[0m\u001b[1;33m,\u001b[0m \u001b[0msave_version\u001b[0m\u001b[1;33m,\u001b[0m \u001b[0mjournal\u001b[0m\u001b[1;33m,\u001b[0m \u001b[0mload_versions\u001b[0m\u001b[1;33m\u001b[0m\u001b[1;33m\u001b[0m\u001b[0m\n\u001b[0m\u001b[0;32m    246\u001b[0m         )\n\u001b[0;32m    247\u001b[0m         \u001b[0mcatalog\u001b[0m\u001b[1;33m.\u001b[0m\u001b[0madd_feed_dict\u001b[0m\u001b[1;33m(\u001b[0m\u001b[0mself\u001b[0m\u001b[1;33m.\u001b[0m\u001b[0m_get_feed_dict\u001b[0m\u001b[1;33m(\u001b[0m\u001b[1;33m)\u001b[0m\u001b[1;33m)\u001b[0m\u001b[1;33m\u001b[0m\u001b[1;33m\u001b[0m\u001b[0m\n",
      "\u001b[1;32mc:\\users\\succe\\.conda\\envs\\pytorch_env\\lib\\site-packages\\kedro\\context\\context.py\u001b[0m in \u001b[0;36m_create_catalog\u001b[1;34m(self, conf_catalog, conf_creds, save_version, journal, load_versions)\u001b[0m\n\u001b[0;32m    267\u001b[0m             \u001b[0msave_version\u001b[0m\u001b[1;33m=\u001b[0m\u001b[0msave_version\u001b[0m\u001b[1;33m,\u001b[0m\u001b[1;33m\u001b[0m\u001b[1;33m\u001b[0m\u001b[0m\n\u001b[0;32m    268\u001b[0m             \u001b[0mjournal\u001b[0m\u001b[1;33m=\u001b[0m\u001b[0mjournal\u001b[0m\u001b[1;33m,\u001b[0m\u001b[1;33m\u001b[0m\u001b[1;33m\u001b[0m\u001b[0m\n\u001b[1;32m--> 269\u001b[1;33m             \u001b[0mload_versions\u001b[0m\u001b[1;33m=\u001b[0m\u001b[0mload_versions\u001b[0m\u001b[1;33m,\u001b[0m\u001b[1;33m\u001b[0m\u001b[1;33m\u001b[0m\u001b[0m\n\u001b[0m\u001b[0;32m    270\u001b[0m         )\n\u001b[0;32m    271\u001b[0m \u001b[1;33m\u001b[0m\u001b[0m\n",
      "\u001b[1;32mc:\\users\\succe\\.conda\\envs\\pytorch_env\\lib\\site-packages\\kedro\\io\\data_catalog.py\u001b[0m in \u001b[0;36mfrom_config\u001b[1;34m(cls, catalog, credentials, load_versions, save_version, journal)\u001b[0m\n\u001b[0;32m    298\u001b[0m             \u001b[0mds_config\u001b[0m \u001b[1;33m=\u001b[0m \u001b[0m_resolve_credentials\u001b[0m\u001b[1;33m(\u001b[0m\u001b[0mds_config\u001b[0m\u001b[1;33m,\u001b[0m \u001b[0mcredentials\u001b[0m\u001b[1;33m)\u001b[0m\u001b[1;33m\u001b[0m\u001b[1;33m\u001b[0m\u001b[0m\n\u001b[0;32m    299\u001b[0m             data_sets[ds_name] = AbstractDataSet.from_config(\n\u001b[1;32m--> 300\u001b[1;33m                 \u001b[0mds_name\u001b[0m\u001b[1;33m,\u001b[0m \u001b[0mds_config\u001b[0m\u001b[1;33m,\u001b[0m \u001b[0mload_versions\u001b[0m\u001b[1;33m.\u001b[0m\u001b[0mget\u001b[0m\u001b[1;33m(\u001b[0m\u001b[0mds_name\u001b[0m\u001b[1;33m)\u001b[0m\u001b[1;33m,\u001b[0m \u001b[0msave_version\u001b[0m\u001b[1;33m\u001b[0m\u001b[1;33m\u001b[0m\u001b[0m\n\u001b[0m\u001b[0;32m    301\u001b[0m             )\n\u001b[0;32m    302\u001b[0m         \u001b[1;32mreturn\u001b[0m \u001b[0mcls\u001b[0m\u001b[1;33m(\u001b[0m\u001b[0mdata_sets\u001b[0m\u001b[1;33m=\u001b[0m\u001b[0mdata_sets\u001b[0m\u001b[1;33m,\u001b[0m \u001b[0mjournal\u001b[0m\u001b[1;33m=\u001b[0m\u001b[0mjournal\u001b[0m\u001b[1;33m)\u001b[0m\u001b[1;33m\u001b[0m\u001b[1;33m\u001b[0m\u001b[0m\n",
      "\u001b[1;32mc:\\users\\succe\\.conda\\envs\\pytorch_env\\lib\\site-packages\\kedro\\io\\core.py\u001b[0m in \u001b[0;36mfrom_config\u001b[1;34m(cls, name, config, load_version, save_version)\u001b[0m\n\u001b[0;32m    152\u001b[0m             raise DataSetError(\n\u001b[0;32m    153\u001b[0m                 \u001b[1;34m\"An exception occurred when parsing config \"\u001b[0m\u001b[1;33m\u001b[0m\u001b[1;33m\u001b[0m\u001b[0m\n\u001b[1;32m--> 154\u001b[1;33m                 \u001b[1;34m\"for DataSet `{}`:\\n{}\"\u001b[0m\u001b[1;33m.\u001b[0m\u001b[0mformat\u001b[0m\u001b[1;33m(\u001b[0m\u001b[0mname\u001b[0m\u001b[1;33m,\u001b[0m \u001b[0mstr\u001b[0m\u001b[1;33m(\u001b[0m\u001b[0mex\u001b[0m\u001b[1;33m)\u001b[0m\u001b[1;33m)\u001b[0m\u001b[1;33m\u001b[0m\u001b[1;33m\u001b[0m\u001b[0m\n\u001b[0m\u001b[0;32m    155\u001b[0m             )\n\u001b[0;32m    156\u001b[0m \u001b[1;33m\u001b[0m\u001b[0m\n",
      "\u001b[1;31mDataSetError\u001b[0m: An exception occurred when parsing config for DataSet `small_deepfake_data`:\nClass `kaggle_deepfake_detection_2020.io.datasets.video_dataset.VideoFrameSamplerDataSet` not found."
     ]
    }
   ],
   "source": [
    "context.io"
   ]
  },
  {
   "cell_type": "code",
   "execution_count": 4,
   "metadata": {},
   "outputs": [
    {
     "name": "stderr",
     "output_type": "stream",
     "text": [
      "'export' is not recognized as an internal or external command,\n",
      "operable program or batch file.\n"
     ]
    }
   ],
   "source": [
    "!export src"
   ]
  },
  {
   "cell_type": "code",
   "execution_count": 18,
   "metadata": {},
   "outputs": [
    {
     "data": {
      "text/plain": [
       "['.coveragerc',\n",
       " '.gitignore',\n",
       " '.ipython',\n",
       " '.isort.cfg',\n",
       " '.kedro.yml',\n",
       " 'conf',\n",
       " 'data',\n",
       " 'docs',\n",
       " 'kedro_cli.py',\n",
       " 'logs',\n",
       " 'notebooks',\n",
       " 'README.md',\n",
       " 'setup.cfg',\n",
       " 'src',\n",
       " '__pycache__']"
      ]
     },
     "execution_count": 18,
     "metadata": {},
     "output_type": "execute_result"
    }
   ],
   "source": [
    "os.listdir(\".\")"
   ]
  },
  {
   "cell_type": "code",
   "execution_count": 20,
   "metadata": {},
   "outputs": [
    {
     "name": "stderr",
     "output_type": "stream",
     "text": [
      "'ls' is not recognized as an internal or external command,\n",
      "operable program or batch file.\n"
     ]
    }
   ],
   "source": []
  },
  {
   "cell_type": "code",
   "execution_count": null,
   "metadata": {},
   "outputs": [],
   "source": []
  }
 ],
 "metadata": {
  "kernelspec": {
   "display_name": "KaggleDeepfakeDetection2020",
   "language": "python",
   "name": "python3"
  }
 },
 "nbformat": 4,
 "nbformat_minor": 4
}
