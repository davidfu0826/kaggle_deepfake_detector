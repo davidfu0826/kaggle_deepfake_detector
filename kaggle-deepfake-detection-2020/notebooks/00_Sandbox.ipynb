{
 "cells": [
  {
   "cell_type": "code",
   "execution_count": 1,
   "metadata": {},
   "outputs": [],
   "source": [
    "import os"
   ]
  },
  {
   "cell_type": "code",
   "execution_count": 4,
   "metadata": {},
   "outputs": [
    {
     "data": {
      "text/plain": [
       "['.coveragerc',\n",
       " '.gitignore',\n",
       " '.ipython',\n",
       " '.isort.cfg',\n",
       " '.kedro.yml',\n",
       " 'conf',\n",
       " 'data',\n",
       " 'docs',\n",
       " 'kedro_cli.py',\n",
       " 'logs',\n",
       " 'notebooks',\n",
       " 'README.md',\n",
       " 'setup.cfg',\n",
       " 'src',\n",
       " '__pycache__']"
      ]
     },
     "execution_count": 4,
     "metadata": {},
     "output_type": "execute_result"
    }
   ],
   "source": [
    "os.listdir(\"../\")"
   ]
  },
  {
   "cell_type": "code",
   "execution_count": null,
   "metadata": {},
   "outputs": [],
   "source": []
  }
 ],
 "metadata": {
  "kernelspec": {
   "display_name": "KaggleDeepfakeDetection2020",
   "language": "python",
   "name": "python3"
  },
  "language_info": {
   "codemirror_mode": {
    "name": "ipython",
    "version": 3
   },
   "file_extension": ".py",
   "mimetype": "text/x-python",
   "name": "python",
   "nbconvert_exporter": "python",
   "pygments_lexer": "ipython3",
   "version": "3.7.6"
  }
 },
 "nbformat": 4,
 "nbformat_minor": 4
}
